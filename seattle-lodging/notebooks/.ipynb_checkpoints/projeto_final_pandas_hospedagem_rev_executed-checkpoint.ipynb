{
 "cells": [
  {
   "cell_type": "markdown",
   "id": "e8b92ba5",
   "metadata": {},
   "source": [
    "# Seattle Lodging Data Analysis 🏡🌲  \n",
    "Autor: **Mauro Roberto Barbosa Cahu**  \n",
    "\n",
    "## Sumário  \n",
    "1. [Introdução](#Intro)  \n",
    "2. [Importação & Limpeza](#Import)  \n",
    "3. [EDA](#EDA)  \n",
    "4. [Modelagem](#Model)  \n",
    "5. [Clusterização](#Cluster)  \n",
    "6. [Conclusões](#End)  \n"
   ]
  },
  {
   "cell_type": "markdown",
   "id": "2613e016",
   "metadata": {},
   "source": [
    "## <a id='Intro'></a>1 – Introdução  \n",
    "Este notebook apresenta um pipeline **end‑to‑end**:  \n",
    "* **Importação flexível** do JSON em múltiplos ambientes.  \n",
    "* Função `to_float` robusta para transformar listas/strings em números.  \n",
    "* **EDA** com Matplotlib.  \n",
    "* Modelagem (Linear Regression × Random Forest).  \n",
    "* **K‑Means** para segmentação de imóveis.  \n"
   ]
  },
  {
   "cell_type": "markdown",
   "id": "a0290c79",
   "metadata": {},
   "source": [
    "## <a id='Import'></a>2 – Importação & Limpeza"
   ]
  },
  {
   "cell_type": "code",
   "execution_count": 1,
   "id": "8ce2c252",
   "metadata": {
    "execution": {
     "iopub.execute_input": "2025-05-25T02:40:11.931108Z",
     "iopub.status.busy": "2025-05-25T02:40:11.930686Z",
     "iopub.status.idle": "2025-05-25T02:40:12.233945Z",
     "shell.execute_reply": "2025-05-25T02:40:12.233434Z"
    }
   },
   "outputs": [
    {
     "name": "stdout",
     "output_type": "stream",
     "text": [
      "Shape: (70, 13)\n"
     ]
    },
    {
     "data": {
      "text/html": [
       "<div>\n",
       "<style scoped>\n",
       "    .dataframe tbody tr th:only-of-type {\n",
       "        vertical-align: middle;\n",
       "    }\n",
       "\n",
       "    .dataframe tbody tr th {\n",
       "        vertical-align: top;\n",
       "    }\n",
       "\n",
       "    .dataframe thead th {\n",
       "        text-align: right;\n",
       "    }\n",
       "</style>\n",
       "<table border=\"1\" class=\"dataframe\">\n",
       "  <thead>\n",
       "    <tr style=\"text-align: right;\">\n",
       "      <th></th>\n",
       "      <th>avaliacao_geral</th>\n",
       "      <th>experiencia_local</th>\n",
       "      <th>max_hospedes</th>\n",
       "      <th>descricao_local</th>\n",
       "      <th>descricao_vizinhanca</th>\n",
       "      <th>quantidade_banheiros</th>\n",
       "      <th>quantidade_quartos</th>\n",
       "      <th>quantidade_camas</th>\n",
       "      <th>modelo_cama</th>\n",
       "      <th>comodidades</th>\n",
       "      <th>taxa_deposito</th>\n",
       "      <th>taxa_limpeza</th>\n",
       "      <th>preco</th>\n",
       "    </tr>\n",
       "  </thead>\n",
       "  <tbody>\n",
       "    <tr>\n",
       "      <th>0</th>\n",
       "      <td>10.0</td>\n",
       "      <td>--</td>\n",
       "      <td>1</td>\n",
       "      <td>[This clean and comfortable one bedroom sits r...</td>\n",
       "      <td>[Lower Queen Anne is near the Seattle Center (...</td>\n",
       "      <td>[1, 1, 1, 1, 1, 1, 1, 1, 1, 1, 1, 1, 1, 1, 1, ...</td>\n",
       "      <td>[1, 1, 1, 1, 1, 1, 1, 1, 1, 1, 1, 1, 1, 1, 1, ...</td>\n",
       "      <td>[1, 1, 1, 1, 1, 1, 1, 1, 1, 1, 1, 1, 1, 1, 1, ...</td>\n",
       "      <td>[Real Bed, Futon, Futon, Pull-out Sofa, Real B...</td>\n",
       "      <td>[{Internet,\"Wireless Internet\",Kitchen,\"Free P...</td>\n",
       "      <td>[$0, $0, $0, $0, $0, $350.00, $350.00, $350.00...</td>\n",
       "      <td>[$0, $0, $0, $20.00, $15.00, $28.00, $35.00, $...</td>\n",
       "      <td>[$110.00, $45.00, $55.00, $52.00, $85.00, $50....</td>\n",
       "    </tr>\n",
       "    <tr>\n",
       "      <th>1</th>\n",
       "      <td>10.0</td>\n",
       "      <td>--</td>\n",
       "      <td>10</td>\n",
       "      <td>[Welcome to the heart of the 'Ballard Brewery ...</td>\n",
       "      <td>[--, Capital Hill is the heart of Seattle, bor...</td>\n",
       "      <td>[2, 3, 2, 3, 3, 3, 2, 1, 2, 2, 2]</td>\n",
       "      <td>[3, 4, 2, 3, 3, 3, 3, 3, 3, 4, 3]</td>\n",
       "      <td>[5, 6, 8, 3, 3, 5, 4, 5, 6, 7, 4]</td>\n",
       "      <td>[Real Bed, Real Bed, Real Bed, Real Bed, Real ...</td>\n",
       "      <td>[{TV,Internet,\"Wireless Internet\",Kitchen,\"Fre...</td>\n",
       "      <td>[$500.00, $300.00, $0, $300.00, $300.00, $360....</td>\n",
       "      <td>[$125.00, $100.00, $85.00, $110.00, $110.00, $...</td>\n",
       "      <td>[$350.00, $300.00, $425.00, $300.00, $285.00, ...</td>\n",
       "    </tr>\n",
       "    <tr>\n",
       "      <th>2</th>\n",
       "      <td>10.0</td>\n",
       "      <td>--</td>\n",
       "      <td>11</td>\n",
       "      <td>[New modern house built in 2013.  Spectacular ...</td>\n",
       "      <td>[Upper Queen Anne is a charming neighborhood f...</td>\n",
       "      <td>[4]</td>\n",
       "      <td>[5]</td>\n",
       "      <td>[7]</td>\n",
       "      <td>[Real Bed]</td>\n",
       "      <td>[{TV,\"Cable TV\",Internet,\"Wireless Internet\",\"...</td>\n",
       "      <td>[$1,000.00]</td>\n",
       "      <td>[$300.00]</td>\n",
       "      <td>[$975.00]</td>\n",
       "    </tr>\n",
       "    <tr>\n",
       "      <th>3</th>\n",
       "      <td>10.0</td>\n",
       "      <td>--</td>\n",
       "      <td>12</td>\n",
       "      <td>[Our NW style home is 3200+ sq ft with 3 level...</td>\n",
       "      <td>[The Views from our top floor!  Wallingford ha...</td>\n",
       "      <td>[3, 3, 3, 3, 3, 3, 3, 3]</td>\n",
       "      <td>[6, 6, 5, 5, 5, 5, 4, 4]</td>\n",
       "      <td>[6, 6, 7, 8, 7, 7, 6, 6]</td>\n",
       "      <td>[Real Bed, Real Bed, Real Bed, Real Bed, Real ...</td>\n",
       "      <td>[{Internet,\"Wireless Internet\",Kitchen,\"Free P...</td>\n",
       "      <td>[$500.00, $500.00, $500.00, $500.00, $500.00, ...</td>\n",
       "      <td>[$225.00, $300.00, $250.00, $250.00, $250.00, ...</td>\n",
       "      <td>[$490.00, $550.00, $350.00, $350.00, $350.00, ...</td>\n",
       "    </tr>\n",
       "    <tr>\n",
       "      <th>4</th>\n",
       "      <td>10.0</td>\n",
       "      <td>--</td>\n",
       "      <td>14</td>\n",
       "      <td>[Perfect for groups. 2 bedrooms, full bathroom...</td>\n",
       "      <td>[Safeway grocery store within walking distance...</td>\n",
       "      <td>[2, 3]</td>\n",
       "      <td>[2, 6]</td>\n",
       "      <td>[3, 9]</td>\n",
       "      <td>[Real Bed, Real Bed]</td>\n",
       "      <td>[{TV,Internet,\"Wireless Internet\",Kitchen,\"Fre...</td>\n",
       "      <td>[$300.00, $2,000.00]</td>\n",
       "      <td>[$40.00, $150.00]</td>\n",
       "      <td>[$200.00, $545.00]</td>\n",
       "    </tr>\n",
       "  </tbody>\n",
       "</table>\n",
       "</div>"
      ],
      "text/plain": [
       "  avaliacao_geral experiencia_local max_hospedes  \\\n",
       "0            10.0                --            1   \n",
       "1            10.0                --           10   \n",
       "2            10.0                --           11   \n",
       "3            10.0                --           12   \n",
       "4            10.0                --           14   \n",
       "\n",
       "                                     descricao_local  \\\n",
       "0  [This clean and comfortable one bedroom sits r...   \n",
       "1  [Welcome to the heart of the 'Ballard Brewery ...   \n",
       "2  [New modern house built in 2013.  Spectacular ...   \n",
       "3  [Our NW style home is 3200+ sq ft with 3 level...   \n",
       "4  [Perfect for groups. 2 bedrooms, full bathroom...   \n",
       "\n",
       "                                descricao_vizinhanca  \\\n",
       "0  [Lower Queen Anne is near the Seattle Center (...   \n",
       "1  [--, Capital Hill is the heart of Seattle, bor...   \n",
       "2  [Upper Queen Anne is a charming neighborhood f...   \n",
       "3  [The Views from our top floor!  Wallingford ha...   \n",
       "4  [Safeway grocery store within walking distance...   \n",
       "\n",
       "                                quantidade_banheiros  \\\n",
       "0  [1, 1, 1, 1, 1, 1, 1, 1, 1, 1, 1, 1, 1, 1, 1, ...   \n",
       "1                  [2, 3, 2, 3, 3, 3, 2, 1, 2, 2, 2]   \n",
       "2                                                [4]   \n",
       "3                           [3, 3, 3, 3, 3, 3, 3, 3]   \n",
       "4                                             [2, 3]   \n",
       "\n",
       "                                  quantidade_quartos  \\\n",
       "0  [1, 1, 1, 1, 1, 1, 1, 1, 1, 1, 1, 1, 1, 1, 1, ...   \n",
       "1                  [3, 4, 2, 3, 3, 3, 3, 3, 3, 4, 3]   \n",
       "2                                                [5]   \n",
       "3                           [6, 6, 5, 5, 5, 5, 4, 4]   \n",
       "4                                             [2, 6]   \n",
       "\n",
       "                                    quantidade_camas  \\\n",
       "0  [1, 1, 1, 1, 1, 1, 1, 1, 1, 1, 1, 1, 1, 1, 1, ...   \n",
       "1                  [5, 6, 8, 3, 3, 5, 4, 5, 6, 7, 4]   \n",
       "2                                                [7]   \n",
       "3                           [6, 6, 7, 8, 7, 7, 6, 6]   \n",
       "4                                             [3, 9]   \n",
       "\n",
       "                                         modelo_cama  \\\n",
       "0  [Real Bed, Futon, Futon, Pull-out Sofa, Real B...   \n",
       "1  [Real Bed, Real Bed, Real Bed, Real Bed, Real ...   \n",
       "2                                         [Real Bed]   \n",
       "3  [Real Bed, Real Bed, Real Bed, Real Bed, Real ...   \n",
       "4                               [Real Bed, Real Bed]   \n",
       "\n",
       "                                         comodidades  \\\n",
       "0  [{Internet,\"Wireless Internet\",Kitchen,\"Free P...   \n",
       "1  [{TV,Internet,\"Wireless Internet\",Kitchen,\"Fre...   \n",
       "2  [{TV,\"Cable TV\",Internet,\"Wireless Internet\",\"...   \n",
       "3  [{Internet,\"Wireless Internet\",Kitchen,\"Free P...   \n",
       "4  [{TV,Internet,\"Wireless Internet\",Kitchen,\"Fre...   \n",
       "\n",
       "                                       taxa_deposito  \\\n",
       "0  [$0, $0, $0, $0, $0, $350.00, $350.00, $350.00...   \n",
       "1  [$500.00, $300.00, $0, $300.00, $300.00, $360....   \n",
       "2                                        [$1,000.00]   \n",
       "3  [$500.00, $500.00, $500.00, $500.00, $500.00, ...   \n",
       "4                               [$300.00, $2,000.00]   \n",
       "\n",
       "                                        taxa_limpeza  \\\n",
       "0  [$0, $0, $0, $20.00, $15.00, $28.00, $35.00, $...   \n",
       "1  [$125.00, $100.00, $85.00, $110.00, $110.00, $...   \n",
       "2                                          [$300.00]   \n",
       "3  [$225.00, $300.00, $250.00, $250.00, $250.00, ...   \n",
       "4                                  [$40.00, $150.00]   \n",
       "\n",
       "                                               preco  \n",
       "0  [$110.00, $45.00, $55.00, $52.00, $85.00, $50....  \n",
       "1  [$350.00, $300.00, $425.00, $300.00, $285.00, ...  \n",
       "2                                          [$975.00]  \n",
       "3  [$490.00, $550.00, $350.00, $350.00, $350.00, ...  \n",
       "4                                 [$200.00, $545.00]  "
      ]
     },
     "metadata": {},
     "output_type": "display_data"
    },
    {
     "name": "stdout",
     "output_type": "stream",
     "text": [
      "\n",
      "Tipos após limpeza:\n",
      "preco                   float64\n",
      "taxa_limpeza            float64\n",
      "taxa_deposito           float64\n",
      "quantidade_quartos      float64\n",
      "quantidade_banheiros    float64\n",
      "quantidade_camas        float64\n",
      "max_hospedes            float64\n",
      "avaliacao_geral         float64\n",
      "dtype: object\n"
     ]
    }
   ],
   "source": [
    "from pathlib import Path\n",
    "import json, re, ast, pandas as pd, numpy as np, math\n",
    "\n",
    "# Localiza o arquivo JSON\n",
    "locations = ['../data/dados_hospedagem.json', 'data/dados_hospedagem.json', '/mnt/data/dados_hospedagem.json', '/content/dados_hospedagem.json']\n",
    "data_path = next((Path(p) for p in locations if Path(p).exists()), None)\n",
    "if data_path is None:\n",
    "    raise FileNotFoundError('dados_hospedagem.json não encontrado em nenhum dos locais padrão.')\n",
    "\n",
    "with open(data_path, 'r', encoding='utf-8') as f:\n",
    "    raw = json.load(f)\n",
    "\n",
    "df = pd.DataFrame(next(iter(raw.values())) if isinstance(raw, dict) else raw)\n",
    "print('Shape:', df.shape)\n",
    "display(df.head())\n",
    "\n",
    "# ----- Função robusta para converter em float -----\n",
    "def to_float(val):\n",
    "    if isinstance(val, (list, tuple)):\n",
    "        for v in val:\n",
    "            f = to_float(v)\n",
    "            if not (pd.isna(f) or math.isnan(f)):\n",
    "                return f\n",
    "        return np.nan\n",
    "    # ndarray ou objeto iterável, mas não string/bytes/int/float\n",
    "    if hasattr(val, '__iter__') and not isinstance(val, (str, bytes, int, float)):\n",
    "        try:\n",
    "            for v in val:\n",
    "                f = to_float(v)\n",
    "                if not (pd.isna(f) or math.isnan(f)):\n",
    "                    return f\n",
    "        except TypeError:\n",
    "            pass\n",
    "    if pd.isna(val):\n",
    "        return np.nan\n",
    "    if isinstance(val, (int, float)):\n",
    "        return float(val)\n",
    "    # faz parsing da primeira ocorrência numérica\n",
    "    txt = str(val).replace(',', '')\n",
    "    m = re.search(r'-?\\d+(?:\\.\\d+)?', txt)\n",
    "    return float(m.group()) if m else np.nan\n",
    "\n",
    "# --- Conversão de colunas monetárias ---\n",
    "money_cols = [c for c in ['preco', 'preco_noite', 'taxa_limpeza', 'taxa_deposito'] if c in df.columns]\n",
    "for col in money_cols:\n",
    "    df[col] = df[col].apply(to_float)\n",
    "\n",
    "# --- Conversão de colunas inteiras ---\n",
    "int_cols = [c for c in ['quantidade_quartos', 'quantidade_banheiros', 'quantidade_camas', 'max_hospedes'] if c in df.columns]\n",
    "for col in int_cols:\n",
    "    df[col] = df[col].apply(to_float)\n",
    "\n",
    "# Avaliação geral\n",
    "if 'avaliacao_geral' in df.columns:\n",
    "    df['avaliacao_geral'] = pd.to_numeric(df['avaliacao_geral'], errors='coerce')\n",
    "\n",
    "print('\\nTipos após limpeza:')\n",
    "print(df[money_cols + int_cols + ['avaliacao_geral']].dtypes)"
   ]
  },
  {
   "cell_type": "markdown",
   "id": "a823c0dc",
   "metadata": {},
   "source": [
    "## <a id='EDA'></a>3 – Análise Exploratória de Dados"
   ]
  },
  {
   "cell_type": "code",
   "execution_count": 2,
   "id": "2c01d7ea",
   "metadata": {
    "execution": {
     "iopub.execute_input": "2025-05-25T02:40:12.236581Z",
     "iopub.status.busy": "2025-05-25T02:40:12.236125Z",
     "iopub.status.idle": "2025-05-25T02:40:13.320159Z",
     "shell.execute_reply": "2025-05-25T02:40:13.319596Z"
    }
   },
   "outputs": [
    {
     "data": {
      "image/png": "[encoded data removed]",
      "text/plain": [
       "<Figure size 800x500 with 1 Axes>"
      ]
     },
     "metadata": {},
     "output_type": "display_data"
    },
    {
     "data": {
      "text/plain": [
       "<Figure size 800x500 with 0 Axes>"
      ]
     },
     "metadata": {},
     "output_type": "display_data"
    },
    {
     "data": {
      "image/png": "[encoded data removed]",
      "text/plain": [
       "<Figure size 640x480 with 1 Axes>"
      ]
     },
     "metadata": {},
     "output_type": "display_data"
    },
    {
     "data": {
      "image/png": "[encoded data removed]",
      "text/plain": [
       "<Figure size 400x300 with 2 Axes>"
      ]
     },
     "metadata": {},
     "output_type": "display_data"
    }
   ],
   "source": [
    "import matplotlib.pyplot as plt\n",
    "\n",
    "price_col = 'preco_noite' if 'preco_noite' in df.columns else 'preco'\n",
    "plt.figure(figsize=(8,5))\n",
    "plt.hist(df[price_col].dropna(), bins=30)\n",
    "plt.title('Distribuição do Preço por Noite (US$)')\n",
    "plt.xlabel('Preço')\n",
    "plt.ylabel('Frequência')\n",
    "plt.show()\n",
    "\n",
    "if 'quantidade_quartos' in df.columns:\n",
    "    plt.figure(figsize=(8,5))\n",
    "    df.boxplot(column=price_col, by='quantidade_quartos')\n",
    "    plt.title('Preço x Quartos')\n",
    "    plt.suptitle('')\n",
    "    plt.xlabel('Quartos')\n",
    "    plt.ylabel('Preço (US$)')\n",
    "    plt.show()\n",
    "\n",
    "# Matriz de correlação simples\n",
    "corr_cols = [c for c in ['avaliacao_geral', 'taxa_limpeza', price_col] if c in df.columns]\n",
    "plt.figure(figsize=(4,3))\n",
    "plt.imshow(df[corr_cols].corr(), cmap='viridis')\n",
    "plt.xticks(range(len(corr_cols)), corr_cols, rotation=45)\n",
    "plt.yticks(range(len(corr_cols)), corr_cols)\n",
    "plt.colorbar()\n",
    "plt.title('Correlação')\n",
    "plt.tight_layout()\n",
    "plt.show()"
   ]
  },
  {
   "cell_type": "markdown",
   "id": "1acb121c",
   "metadata": {},
   "source": [
    "## <a id='Model'></a>4 – Modelagem Preditiva"
   ]
  },
  {
   "cell_type": "code",
   "execution_count": 3,
   "id": "feae73df",
   "metadata": {
    "execution": {
     "iopub.execute_input": "2025-05-25T02:40:13.322524Z",
     "iopub.status.busy": "2025-05-25T02:40:13.321990Z",
     "iopub.status.idle": "2025-05-25T02:40:14.469341Z",
     "shell.execute_reply": "2025-05-25T02:40:14.468706Z"
    }
   },
   "outputs": [
    {
     "name": "stdout",
     "output_type": "stream",
     "text": [
      "R² médio (Linear Regression): 0.431\n",
      "R² médio (Random Forest): 0.359\n"
     ]
    },
    {
     "data": {
      "image/png": "[encoded data removed]",
      "text/plain": [
       "<Figure size 500x500 with 1 Axes>"
      ]
     },
     "metadata": {},
     "output_type": "display_data"
    }
   ],
   "source": [
    "from sklearn.model_selection import cross_val_score\n",
    "from sklearn.linear_model import LinearRegression\n",
    "from sklearn.ensemble import RandomForestRegressor\n",
    "\n",
    "target = 'preco_noite' if 'preco_noite' in df.columns else 'preco'\n",
    "feature_candidates = ['avaliacao_geral','quantidade_quartos','quantidade_banheiros','taxa_limpeza']\n",
    "features = [c for c in feature_candidates if c in df.columns]\n",
    "\n",
    "# Dados para o modelo\n",
    "df_mod = df.dropna(subset=[target]).copy()\n",
    "X = df_mod[features].apply(pd.to_numeric, errors='coerce').fillna(0).astype(float)\n",
    "y = pd.to_numeric(df_mod[target], errors='coerce')\n",
    "\n",
    "lr = LinearRegression()\n",
    "rf = RandomForestRegressor(random_state=42)\n",
    "\n",
    "r2_lr = cross_val_score(lr, X, y, cv=3, scoring='r2').mean()\n",
    "r2_rf = cross_val_score(rf, X, y, cv=3, scoring='r2').mean()\n",
    "\n",
    "print(f'R² médio (Linear Regression): {r2_lr:.3f}')\n",
    "print(f'R² médio (Random Forest): {r2_rf:.3f}')\n",
    "\n",
    "# Ajuste final RF e gráfico\n",
    "rf.fit(X, y)\n",
    "y_pred = rf.predict(X)\n",
    "plt.figure(figsize=(5,5))\n",
    "plt.scatter(y, y_pred, alpha=0.6)\n",
    "plt.plot([y.min(), y.max()], [y.min(), y.max()], lw=2)\n",
    "plt.xlabel('Preço real')\n",
    "plt.ylabel('Preço previsto')\n",
    "plt.title('Random Forest – Real vs Previsto')\n",
    "plt.tight_layout()\n",
    "plt.show()"
   ]
  },
  {
   "cell_type": "markdown",
   "id": "20265069",
   "metadata": {},
   "source": [
    "## <a id='Cluster'></a>5 – Clusterização"
   ]
  },
  {
   "cell_type": "code",
   "execution_count": 4,
   "id": "8e914b40",
   "metadata": {
    "execution": {
     "iopub.execute_input": "2025-05-25T02:40:14.471692Z",
     "iopub.status.busy": "2025-05-25T02:40:14.471187Z",
     "iopub.status.idle": "2025-05-25T02:40:14.516759Z",
     "shell.execute_reply": "2025-05-25T02:40:14.516230Z"
    }
   },
   "outputs": [
    {
     "data": {
      "text/html": [
       "<div>\n",
       "<style scoped>\n",
       "    .dataframe tbody tr th:only-of-type {\n",
       "        vertical-align: middle;\n",
       "    }\n",
       "\n",
       "    .dataframe tbody tr th {\n",
       "        vertical-align: top;\n",
       "    }\n",
       "\n",
       "    .dataframe thead th {\n",
       "        text-align: right;\n",
       "    }\n",
       "</style>\n",
       "<table border=\"1\" class=\"dataframe\">\n",
       "  <thead>\n",
       "    <tr style=\"text-align: right;\">\n",
       "      <th></th>\n",
       "      <th>avaliacao_geral</th>\n",
       "      <th>quantidade_quartos</th>\n",
       "      <th>quantidade_banheiros</th>\n",
       "      <th>taxa_limpeza</th>\n",
       "      <th>preco</th>\n",
       "    </tr>\n",
       "    <tr>\n",
       "      <th>cluster</th>\n",
       "      <th></th>\n",
       "      <th></th>\n",
       "      <th></th>\n",
       "      <th></th>\n",
       "      <th></th>\n",
       "    </tr>\n",
       "  </thead>\n",
       "  <tbody>\n",
       "    <tr>\n",
       "      <th>0</th>\n",
       "      <td>NaN</td>\n",
       "      <td>3.714286</td>\n",
       "      <td>2.714286</td>\n",
       "      <td>167.142857</td>\n",
       "      <td>327.428571</td>\n",
       "    </tr>\n",
       "    <tr>\n",
       "      <th>1</th>\n",
       "      <td>7.651163</td>\n",
       "      <td>1.604167</td>\n",
       "      <td>1.270833</td>\n",
       "      <td>57.395833</td>\n",
       "      <td>158.250000</td>\n",
       "    </tr>\n",
       "    <tr>\n",
       "      <th>2</th>\n",
       "      <td>8.933333</td>\n",
       "      <td>4.466667</td>\n",
       "      <td>2.933333</td>\n",
       "      <td>232.000000</td>\n",
       "      <td>455.000000</td>\n",
       "    </tr>\n",
       "  </tbody>\n",
       "</table>\n",
       "</div>"
      ],
      "text/plain": [
       "         avaliacao_geral  quantidade_quartos  quantidade_banheiros  \\\n",
       "cluster                                                              \n",
       "0                    NaN            3.714286              2.714286   \n",
       "1               7.651163            1.604167              1.270833   \n",
       "2               8.933333            4.466667              2.933333   \n",
       "\n",
       "         taxa_limpeza       preco  \n",
       "cluster                            \n",
       "0          167.142857  327.428571  \n",
       "1           57.395833  158.250000  \n",
       "2          232.000000  455.000000  "
      ]
     },
     "execution_count": 4,
     "metadata": {},
     "output_type": "execute_result"
    }
   ],
   "source": [
    "from sklearn.cluster import KMeans\n",
    "from sklearn.preprocessing import StandardScaler\n",
    "\n",
    "scaler = StandardScaler()\n",
    "X_scaled = scaler.fit_transform(X)  # X definido na célula anterior\n",
    "kmeans = KMeans(n_clusters=3, random_state=42)\n",
    "df_mod['cluster'] = kmeans.fit_predict(X_scaled)\n",
    "\n",
    "df_mod.groupby('cluster')[features + [target]].mean()"
   ]
  },
  {
   "cell_type": "markdown",
   "id": "b43b73f7",
   "metadata": {},
   "source": [
    "## <a id='End'></a>6 – Conclusões  \n",
    "* **Limpeza robusta** permite tratar listas, strings e valores faltantes.  \n",
    "* Random Forest superou a regressão linear neste conjunto reduzido.  \n",
    "* Três clusters indicam perfis **econômico, intermediário e premium**.  \n",
    "\n",
    "**Próximos passos**  \n",
    "1. Analisar sazonalidade e avaliar impacto climático.  \n",
    "2. Explorar avaliações textuais com NLP para adicionar novas features.  \n",
    "3. Criar um dashboard interativo (Streamlit/Plotly).  \n",
    "\n",
    "---  \n",
    "Projeto pronto para GitHub ✅"
   ]
  }
 ],
 "metadata": {
  "kernelspec": {
   "display_name": "Python 3 (ipykernel)",
   "language": "python",
   "name": "python3"
  },
  "language_info": {
   "codemirror_mode": {
    "name": "ipython",
    "version": 3
   },
   "file_extension": ".py",
   "mimetype": "text/x-python",
   "name": "python",
   "nbconvert_exporter": "python",
   "pygments_lexer": "ipython3",
   "version": "3.11.9"
  }
 },
 "nbformat": 4,
 "nbformat_minor": 5
}
